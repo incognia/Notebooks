{
 "cells": [
  {
   "cell_type": "markdown",
   "metadata": {},
   "source": [
    "# 23. Lista de listas\n",
    "\n",
    "## Segmentación, bucles `for` anidados y aplanado\n",
    "\n",
    "[Learn Python with Jupyter](https://learnpythonwithjupyter.com/) (Aprende Python con Jupyter): [Serena Bonaretti](https://sbonaretti.github.io/)   \n",
    "Tradución al español mexicano (es-MX): [Rodrigo Ernesto Álvarez Aguilera](https://incognia.github.io/)   \n",
    "Licencia de contenido: [CC BY-NC-SA](https://creativecommons.org/licenses/by-nc-sa/2.0/). Licencia de código: [GNU-GPL v3](https://www.gnu.org/licenses/gpl-3.0.en.html)  \n",
    "\n",
    "---"
   ]
  },
  {
   "cell_type": "markdown",
   "metadata": {},
   "source": [
    "## 1. Segmentación"
   ]
  },
  {
   "cell_type": "markdown",
   "metadata": {},
   "source": [
    "- Dada la siguiente lista:"
   ]
  },
  {
   "cell_type": "code",
   "execution_count": null,
   "metadata": {},
   "outputs": [],
   "source": [
    "animales = [[\"perro\", \"gato\"], [\"vaca\", \"oveja\", \"caballo\", \"pollo\", \"conejo\"], [\"panda\", \"elefante\", \"jirafa\", \"pingüino\"]]"
   ]
  },
  {
   "cell_type": "markdown",
   "metadata": {},
   "source": [
    "- Imprime las sub-listas que contienen mascotas, animales de granja y animales salvajes:"
   ]
  },
  {
   "cell_type": "code",
   "execution_count": null,
   "metadata": {},
   "outputs": [],
   "source": [
    "print (animales[0])\n",
    "print (animales[1])\n",
    "print (animales[2])"
   ]
  },
  {
   "cell_type": "markdown",
   "metadata": {},
   "source": [
    "- Imprime los sub-elementos \"gato\", \"conejo\" y desde \"panda\" hasta \"jirafa\":"
   ]
  },
  {
   "cell_type": "code",
   "execution_count": null,
   "metadata": {},
   "outputs": [],
   "source": [
    "print (animales[0][1])\n",
    "print (animales[1][-1])\n",
    "print (animales[2][:3])"
   ]
  },
  {
   "cell_type": "markdown",
   "metadata": {},
   "source": [
    "--- \n",
    "## 2. Bucles for anidados"
   ]
  },
  {
   "cell_type": "markdown",
   "metadata": {},
   "source": [
    "- Dadas las siguienstes listas:"
   ]
  },
  {
   "cell_type": "code",
   "execution_count": null,
   "metadata": {},
   "outputs": [],
   "source": [
    "deportes = [[\"esquí\", \"patinaje\", \"curling\"], [\"canotaje\", \"ciclismo\", \"natación\", \"surf\"]]"
   ]
  },
  {
   "cell_type": "markdown",
   "metadata": {},
   "source": [
    "- Imprime los elementos de las sub-listas uno por uno usando bucles for anidados a través de *índices*:"
   ]
  },
  {
   "cell_type": "code",
   "execution_count": null,
   "metadata": {},
   "outputs": [],
   "source": [
    "for i in range (len(deportes)):  \n",
    "    for j in range (len(deportes[i])):\n",
    "        print (deportes[i][j])"
   ]
  },
  {
   "cell_type": "markdown",
   "metadata": {},
   "source": [
    "- Imprime los elementos de las sub-listas uno por uno usando bucles for anidados a través de *valores*:"
   ]
  },
  {
   "cell_type": "code",
   "execution_count": null,
   "metadata": {},
   "outputs": [],
   "source": [
    "for deportes_estacionales in deportes:\n",
    "    for deporte in deportes_estacionales:\n",
    "        print (deporte)"
   ]
  },
  {
   "cell_type": "markdown",
   "metadata": {},
   "source": [
    "---\n",
    "## Aplanado"
   ]
  },
  {
   "cell_type": "markdown",
   "metadata": {},
   "source": [
    "- Dada la siguiente lista de listas:"
   ]
  },
  {
   "cell_type": "code",
   "execution_count": null,
   "metadata": {},
   "outputs": [],
   "source": [
    "instrumentos = [[\"contrabajo\", \"violonchelo\", \"clarinete\"],[\"gong\", \"guitarra\"],[\"pandereta\", \"trompeta\", \"trombón\", \"triángulo\"]]"
   ]
  },
  {
   "cell_type": "markdown",
   "metadata": {},
   "source": [
    "- Aplana la lista usando un bucle for anidado a través de *índices*:"
   ]
  },
  {
   "cell_type": "code",
   "execution_count": null,
   "metadata": {},
   "outputs": [],
   "source": [
    "instrumentos_aplanados = []\n",
    "for i in range(len(instrumentos)):\n",
    "    for j in range (len(instrumentos[i])):\n",
    "        instrumentos_aplanados.append(instrumentos[i][j])\n",
    "print (instrumentos_aplanados)"
   ]
  },
  {
   "cell_type": "markdown",
   "metadata": {},
   "source": [
    "- Aplana la lista usando un bucle for anidado a través de *elementos*:"
   ]
  },
  {
   "cell_type": "code",
   "execution_count": null,
   "metadata": {},
   "outputs": [],
   "source": [
    "instrumentos_aplanados = []\n",
    "for grupo in instrumentos:\n",
    "    for instrumento in grupo:\n",
    "        instrumentos_aplanados.append(instrumento)\n",
    "print (instrumentos_aplanados)"
   ]
  },
  {
   "cell_type": "markdown",
   "metadata": {},
   "source": [
    "- Aplana la lista usando un bucle for y concatenación de listas:"
   ]
  },
  {
   "cell_type": "code",
   "execution_count": null,
   "metadata": {},
   "outputs": [],
   "source": [
    "instrumentos_aplanados = []\n",
    "for grupo in instrumentos:\n",
    "    instrumentos_aplanados += grupo\n",
    "print (instrumentos_aplanados)"
   ]
  },
  {
   "cell_type": "markdown",
   "metadata": {},
   "source": [
    "- Aplana la lista usando comprensión de listas:"
   ]
  },
  {
   "cell_type": "code",
   "execution_count": null,
   "metadata": {},
   "outputs": [],
   "source": [
    "instrumentos = [instrumento for grupo in instrumentos for instrumento in grupo]\n",
    "print (instrumentos)"
   ]
  }
 ],
 "metadata": {
  "kernelspec": {
   "display_name": "Python 3 (ipykernel)",
   "language": "python",
   "name": "python3"
  },
  "language_info": {
   "codemirror_mode": {
    "name": "ipython",
    "version": 3
   },
   "file_extension": ".py",
   "mimetype": "text/x-python",
   "name": "python",
   "nbconvert_exporter": "python",
   "pygments_lexer": "ipython3",
   "version": "3.10.12"
  },
  "widgets": {
   "application/vnd.jupyter.widget-state+json": {
    "state": {},
    "version_major": 2,
    "version_minor": 0
   }
  }
 },
 "nbformat": 4,
 "nbformat_minor": 4
}
