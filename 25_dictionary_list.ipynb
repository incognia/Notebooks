{
 "cells": [
  {
   "cell_type": "markdown",
   "metadata": {},
   "source": [
    "# 25. Viaje a Suiza\n",
    "\n",
    "## Diccionario con listas como valores\n",
    "\n",
    "[Learn Python with Jupyter](https://learnpythonwithjupyter.com/) (Aprende Python con Jupyter): [Serena Bonaretti](https://sbonaretti.github.io/)   \n",
    "Tradución al español mexicano (es-MX): [Rodrigo Ernesto Álvarez Aguilera](https://incognia.github.io/)   \n",
    "Licencia de contenido: [CC BY-NC-SA](https://creativecommons.org/licenses/by-nc-sa/2.0/). Licencia de código: [GNU-GPL v3](https://www.gnu.org/licenses/gpl-3.0.en.html)  \n",
    "\n",
    "---"
   ]
  },
  {
   "cell_type": "markdown",
   "metadata": {},
   "source": [
    "- Tu amigo está planeando un viaje a Suiza y te ha pedido algunos consejos. Comienzas con un diccionario vacío para llenar:"
   ]
  },
  {
   "cell_type": "code",
   "execution_count": null,
   "metadata": {},
   "outputs": [],
   "source": [
    "consejos = {}"
   ]
  },
  {
   "cell_type": "markdown",
   "metadata": {},
   "source": [
    "- A él le gustaría visitar algunas ciudades y probar comida típica. Por lo tanto, añades algunas recomendaciones:"
   ]
  },
  {
   "cell_type": "code",
   "execution_count": null,
   "metadata": {},
   "outputs": [],
   "source": [
    "consejos[\"ciudades\"] = [\"Berna\", \"Lucerna\"]\n",
    "consejos[\"comida\"]   = [\"chocolate\", \"raclette\"]\n",
    "print (consejos)"
   ]
  },
  {
   "cell_type": "markdown",
   "metadata": {},
   "source": [
    "- Debido a que su estancia es de cuatro días, añades dos ciudades más y dos platillos más:"
   ]
  },
  {
   "cell_type": "code",
   "execution_count": null,
   "metadata": {},
   "outputs": [],
   "source": [
    "consejos[\"ciudades\"].append(\"Lugano\")\n",
    "print (consejos)\n",
    "# usando [] y .append() (sintaxis 1)"
   ]
  },
  {
   "cell_type": "code",
   "execution_count": null,
   "metadata": {},
   "outputs": [],
   "source": [
    "consejos[\"ciudades\"] += [\"Ginebra\"]\n",
    "print (consejos)\n",
    "# usando [] y concatenación de listas (sintaxis 2)"
   ]
  },
  {
   "cell_type": "code",
   "execution_count": null,
   "metadata": {},
   "outputs": [],
   "source": [
    "consejos.get(\"comida\").append(\"pastel de cebolla\")\n",
    "print (consejos)\n",
    "# usando get y .append() (sintaxis 3)"
   ]
  },
  {
   "cell_type": "code",
   "execution_count": null,
   "metadata": {},
   "outputs": [],
   "source": [
    "consejos[\"comida\"] = consejos.get(\"comida\") + [\"fondue\"]\n",
    "print (consejos)\n",
    "# usando get y concatenación de listas (sintaxis 4)"
   ]
  },
  {
   "cell_type": "markdown",
   "metadata": {},
   "source": [
    "- Quieres verificar que el diccionario es correcto, así que imprimes todos los elementos uno por uno:"
   ]
  },
  {
   "cell_type": "code",
   "execution_count": null,
   "metadata": {},
   "outputs": [],
   "source": [
    "for k,v in consejos.items():\n",
    "    print (k,v)"
   ]
  },
  {
   "cell_type": "markdown",
   "metadata": {},
   "source": [
    "- Finalmente, mejoras la impresión para una mejor legibilidad:"
   ]
  },
  {
   "cell_type": "code",
   "execution_count": null,
   "metadata": {},
   "outputs": [],
   "source": [
    "for k,v in consejos.items():\n",
    "    print (\"{:>6}: {}\".format(k,v))"
   ]
  },
  {
   "cell_type": "markdown",
   "metadata": {},
   "source": [
    "---\n",
    "## Juegos Olímpicos"
   ]
  },
  {
   "cell_type": "markdown",
   "metadata": {},
   "source": [
    "- Eres un periodista deportivo y tienes que recoger listas de deportes de verano e invierno en los Juegos Olímpicos. Empiezas con un diccionario vacío:"
   ]
  },
  {
   "cell_type": "code",
   "execution_count": null,
   "metadata": {},
   "outputs": [],
   "source": [
    "juegos_olimpicos = {}"
   ]
  },
  {
   "cell_type": "markdown",
   "metadata": {},
   "source": [
    "- Luego añades dos deportes de verano y dos deportes de invierno:"
   ]
  },
  {
   "cell_type": "code",
   "execution_count": null,
   "metadata": {},
   "outputs": [],
   "source": [
    "juegos_olimpicos[\"verano\"] = [\"buceo\", \"natación\"]\n",
    "juegos_olimpicos[\"invierno\"] = [\"esquí alpino\", \"patinaje artístico\"]\n",
    "print (juegos_olimpicos)"
   ]
  },
  {
   "cell_type": "markdown",
   "metadata": {},
   "source": [
    "- Las listas parecen un poco cortas, así que quieres añadir dos deportes de verano más y dos deportes de invierno más:"
   ]
  },
  {
   "cell_type": "code",
   "execution_count": null,
   "metadata": {},
   "outputs": [],
   "source": [
    "# usando [] y .append() (sintaxis 1)\n",
    "juegos_olimpicos[\"verano\"].append(\"remo\")\n",
    "juegos_olimpicos"
   ]
  },
  {
   "cell_type": "code",
   "execution_count": null,
   "metadata": {},
   "outputs": [],
   "source": [
    "# usando [] y la concatenación de listas (sintaxis 2)\n",
    "juegos_olimpicos[\"verano\"] += [\"vela\"]\n",
    "print (juegos_olimpicos)"
   ]
  },
  {
   "cell_type": "code",
   "execution_count": null,
   "metadata": {},
   "outputs": [],
   "source": [
    "# usando get y .append() (sintaxis 3)\n",
    "juegos_olimpicos.get(\"invierno\").append(\"snowboard\")\n",
    "print (juegos_olimpicos)"
   ]
  },
  {
   "cell_type": "code",
   "execution_count": null,
   "metadata": {},
   "outputs": [],
   "source": [
    "# usando get y la concatenación de listas (sintaxis 4)\n",
    "juegos_olimpicos[\"invierno\"] = juegos_olimpicos.get(\"invierno\") + [\"bobsleigh\"]\n",
    "print (juegos_olimpicos)"
   ]
  },
  {
   "cell_type": "markdown",
   "metadata": {},
   "source": [
    "- Imprimes todos los elementos uno por uno de dos maneras diferentes:"
   ]
  },
  {
   "cell_type": "code",
   "execution_count": null,
   "metadata": {},
   "outputs": [],
   "source": [
    "for k,v in juegos_olimpicos.items():\n",
    "    print (\"-> \",k,v)"
   ]
  },
  {
   "cell_type": "code",
   "execution_count": null,
   "metadata": {},
   "outputs": [],
   "source": [
    "for k,v in juegos_olimpicos.items(): \n",
    "    print (\"{:>20}: {}\".format(k,v))"
   ]
  },
  {
   "cell_type": "markdown",
   "metadata": {},
   "source": [
    "- Y finalmente quieres imprimir solo las listas de deportes:"
   ]
  },
  {
   "cell_type": "code",
   "execution_count": null,
   "metadata": {},
   "outputs": [],
   "source": [
    "for v in juegos_olimpicos.values():\n",
    "    print (v)"
   ]
  },
  {
   "cell_type": "markdown",
   "metadata": {},
   "source": [
    "---\n",
    "## Enseñando python"
   ]
  },
  {
   "cell_type": "markdown",
   "metadata": {},
   "source": [
    "- Estás enseñando python a algunos estudiantes y quieres listar sus nombres de acuerdo al curso que están tomando. Empiezas creando un diccionario:"
   ]
  },
  {
   "cell_type": "code",
   "execution_count": null,
   "metadata": {},
   "outputs": [],
   "source": [
    "estudiantes = {}"
   ]
  },
  {
   "cell_type": "markdown",
   "metadata": {},
   "source": [
    "- Hasta ahora tienes dos estudiantes para el curso básico y tres estudiantes para el curso avanzado. Añades sus nombres al diccionario:"
   ]
  },
  {
   "cell_type": "code",
   "execution_count": null,
   "metadata": {},
   "outputs": [],
   "source": [
    "estudiantes[\"básico\"]   = [\"Pablo\", \"Laura\"]\n",
    "estudiantes[\"avanzado\"] = [\"Mohamed\", \"Gita\", \"María\"]\n",
    "print (estudiantes)"
   ]
  },
  {
   "cell_type": "markdown",
   "metadata": {},
   "source": [
    "- Acabas de recibir cuatro nuevas inscripciones, tres para el curso básico y una para el curso avanzado. Añades los nombres de los nuevos estudiantes al diccionario:"
   ]
  },
  {
   "cell_type": "code",
   "execution_count": null,
   "metadata": {},
   "outputs": [],
   "source": [
    "# usando [] y .append() (sintaxis 1)\n",
    "estudiantes[\"básico\"].append(\"Tomás\")\n",
    "estudiantes"
   ]
  },
  {
   "cell_type": "code",
   "execution_count": null,
   "metadata": {},
   "outputs": [],
   "source": [
    "# usando [] y la concatenación de listas (sintaxis 2)\n",
    "estudiantes[\"básico\"] += [\"Juhui\"]\n",
    "print (estudiantes)\n"
   ]
  },
  {
   "cell_type": "code",
   "execution_count": null,
   "metadata": {},
   "outputs": [],
   "source": [
    "# utilizando get y .append() (sintaxis 3)\n",
    "estudiantes.get(\"avanzado\").append(\"Mateo\")\n",
    "print (estudiantes)"
   ]
  },
  {
   "cell_type": "code",
   "execution_count": null,
   "metadata": {},
   "outputs": [],
   "source": [
    "# utilizando get y concatenación de listas (sintaxis 4)\n",
    "estudiantes[\"básico\"] = estudiantes.get(\"básico\") + [\"Marco\"]\n",
    "print (estudiantes)"
   ]
  },
  {
   "cell_type": "markdown",
   "metadata": {},
   "source": [
    "- Después de revisar el historial de uno de tus estudiantes del curso básico, te das cuenta de que él/ella no necesita el curso básico. Por lo tanto, lo mueves del curso básico al curso avanzado:"
   ]
  },
  {
   "cell_type": "code",
   "execution_count": null,
   "metadata": {},
   "outputs": [],
   "source": [
    "estudiantes[\"básico\"].remove(\"Laura\")\n",
    "estudiantes[\"avanzado\"].append(\"Laura\")\n",
    "print (estudiantes)"
   ]
  },
  {
   "cell_type": "markdown",
   "metadata": {},
   "source": [
    "- Imprimes todos los elementos uno por uno de dos maneras diferentes:"
   ]
  },
  {
   "cell_type": "code",
   "execution_count": null,
   "metadata": {},
   "outputs": [],
   "source": [
    "for k,v in estudiantes.items():\n",
    "    print (\"->\",k,v)"
   ]
  },
  {
   "cell_type": "code",
   "execution_count": null,
   "metadata": {},
   "outputs": [],
   "source": [
    "for k,v in estudiantes.items():\n",
    "    print (\"{:>8}: {}\".format(k,v))"
   ]
  },
  {
   "cell_type": "markdown",
   "metadata": {},
   "source": [
    "- Y finalmente imprimes solo los nombres de los cursos:"
   ]
  },
  {
   "cell_type": "code",
   "execution_count": null,
   "metadata": {},
   "outputs": [],
   "source": [
    "for k in estudiantes.keys():\n",
    "    print (k)"
   ]
  }
 ],
 "metadata": {
  "kernelspec": {
   "display_name": "Python 3 (ipykernel)",
   "language": "python",
   "name": "python3"
  },
  "language_info": {
   "codemirror_mode": {
    "name": "ipython",
    "version": 3
   },
   "file_extension": ".py",
   "mimetype": "text/x-python",
   "name": "python",
   "nbconvert_exporter": "python",
   "pygments_lexer": "ipython3",
   "version": "3.10.12"
  },
  "widgets": {
   "application/vnd.jupyter.widget-state+json": {
    "state": {},
    "version_major": 2,
    "version_minor": 0
   }
  }
 },
 "nbformat": 4,
 "nbformat_minor": 4
}
