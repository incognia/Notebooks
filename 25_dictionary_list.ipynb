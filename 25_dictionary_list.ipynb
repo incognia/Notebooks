{
 "cells": [
  {
   "cell_type": "markdown",
   "metadata": {},
   "source": [
    "# 25. Viaje a Suiza\n",
    "\n",
    "## Diccionario con listas como valores\n",
    "\n",
    "[Learn Python with Jupyter](https://learnpythonwithjupyter.com/) (Aprende Python con Jupyter): [Serena Bonaretti](https://sbonaretti.github.io/)   \n",
    "Tradución al español mexicano (es-MX): [Rodrigo Ernesto Álvarez Aguilera](https://incognia.github.io/)   \n",
    "Licencia de contenido: [CC BY-NC-SA](https://creativecommons.org/licenses/by-nc-sa/2.0/). Licencia de código: [GNU-GPL v3](https://www.gnu.org/licenses/gpl-3.0.en.html)  \n",
    "\n",
    "---"
   ]
  },
  {
   "cell_type": "markdown",
   "metadata": {},
   "source": [
    "- Tu amigo está planeando un viaje a Suiza y te ha pedido algunos consejos. Comienzas con un diccionario vacío para llenar:"
   ]
  },
  {
   "cell_type": "code",
   "execution_count": null,
   "metadata": {},
   "outputs": [],
   "source": [
    "consejos = {}"
   ]
  },
  {
   "cell_type": "markdown",
   "metadata": {},
   "source": [
    "- A él le gustaría visitar algunas ciudades y probar comida típica. Por lo tanto, añades algunas recomendaciones:"
   ]
  },
  {
   "cell_type": "code",
   "execution_count": null,
   "metadata": {},
   "outputs": [],
   "source": [
    "consejos[\"ciudades\"] = [\"Berna\", \"Lucerna\"]\n",
    "consejos[\"comida\"]   = [\"chocolate\", \"raclette\"]\n",
    "print (consejos)"
   ]
  },
  {
   "cell_type": "markdown",
   "metadata": {},
   "source": [
    "- Debido a que su estancia es de cuatro días, añades dos ciudades más y dos platillos más:"
   ]
  },
  {
   "cell_type": "code",
   "execution_count": null,
   "metadata": {},
   "outputs": [],
   "source": [
    "consejos[\"ciudades\"].append(\"Lugano\")\n",
    "print (consejos)\n",
    "# usando [] y .append() (sintaxis 1)"
   ]
  },
  {
   "cell_type": "code",
   "execution_count": null,
   "metadata": {},
   "outputs": [],
   "source": [
    "consejos[\"ciudades\"] += [\"Ginebra\"]\n",
    "print (consejos)\n",
    "# usando [] y concatenación de listas (sintaxis 2)"
   ]
  },
  {
   "cell_type": "code",
   "execution_count": null,
   "metadata": {},
   "outputs": [],
   "source": [
    "consejos.get(\"comida\").append(\"pastel de cebolla\")\n",
    "print (consejos)\n",
    "# usando get y .append() (sintaxis 3)"
   ]
  },
  {
   "cell_type": "code",
   "execution_count": null,
   "metadata": {},
   "outputs": [],
   "source": [
    "consejos[\"comida\"] = consejos.get(\"comida\") + [\"fondue\"]\n",
    "print (consejos)\n",
    "# usando get y concatenación de listas (sintaxis 4)"
   ]
  },
  {
   "cell_type": "markdown",
   "metadata": {},
   "source": [
    "- Quieres verificar que el diccionario es correcto, así que imprimes todos los elementos uno por uno:"
   ]
  },
  {
   "cell_type": "code",
   "execution_count": null,
   "metadata": {},
   "outputs": [],
   "source": [
    "for k,v in consejos.items():\n",
    "    print (k,v)"
   ]
  },
  {
   "cell_type": "markdown",
   "metadata": {},
   "source": [
    "- Finalmente, mejoras la impresión para una mejor legibilidad:"
   ]
  },
  {
   "cell_type": "code",
   "execution_count": null,
   "metadata": {},
   "outputs": [],
   "source": [
    "for k,v in consejos.items():\n",
    "    print (\"{:>6}: {}\".format(k,v))"
   ]
  },
  {
   "cell_type": "markdown",
   "metadata": {},
   "source": [
    "---\n",
    "\n",
    "## Olympic games"
   ]
  },
  {
   "cell_type": "markdown",
   "metadata": {},
   "source": [
    "- You are a sports journalist and you have to collect lists of summer and winter sports at the Olympic games. You start with an empty dictionary:"
   ]
  },
  {
   "cell_type": "code",
   "execution_count": null,
   "metadata": {},
   "outputs": [],
   "source": [
    "olympic_games = {}"
   ]
  },
  {
   "cell_type": "markdown",
   "metadata": {},
   "source": [
    "- Then you add two summer sports and two winter sports: "
   ]
  },
  {
   "cell_type": "code",
   "execution_count": null,
   "metadata": {},
   "outputs": [],
   "source": [
    "olympic_games[\"summer\"] = [\"diving\", \"swimming\"]\n",
    "olympic_games[\"winter\"] = [\"alpine skiing\", \"figure skeating\"]\n",
    "print (olympic_games)"
   ]
  },
  {
   "cell_type": "markdown",
   "metadata": {},
   "source": [
    "- The lists look a bit short, so you want to add two more summer sports and two more winter sports: "
   ]
  },
  {
   "cell_type": "code",
   "execution_count": null,
   "metadata": {},
   "outputs": [],
   "source": [
    "# using [] and .append() (syntax 1)\n",
    "olympic_games[\"summer\"].append(\"rowing\")\n",
    "olympic_games"
   ]
  },
  {
   "cell_type": "code",
   "execution_count": null,
   "metadata": {},
   "outputs": [],
   "source": [
    "# using [] and list concatenation (syntax 2)\n",
    "olympic_games[\"summer\"] += [\"sailing\"]\n",
    "print (olympic_games)"
   ]
  },
  {
   "cell_type": "code",
   "execution_count": null,
   "metadata": {},
   "outputs": [],
   "source": [
    "# using get and .append() (syntax 3)\n",
    "olympic_games.get(\"winter\").append(\"snowboad\")\n",
    "print (olympic_games)"
   ]
  },
  {
   "cell_type": "code",
   "execution_count": null,
   "metadata": {},
   "outputs": [],
   "source": [
    "# using get and list concatenation (syntax 4)\n",
    "olympic_games[\"winter\"] = olympic_games.get(\"winter\") + [\"bobsleigh\"]\n",
    "print (olympic_games)"
   ]
  },
  {
   "cell_type": "markdown",
   "metadata": {},
   "source": [
    "- You print out all items one by one in two different ways:"
   ]
  },
  {
   "cell_type": "code",
   "execution_count": null,
   "metadata": {},
   "outputs": [],
   "source": [
    "for k,v in olympic_games.items():\n",
    "    print (\"-> \",k,v)"
   ]
  },
  {
   "cell_type": "code",
   "execution_count": null,
   "metadata": {},
   "outputs": [],
   "source": [
    "for k,v in olympic_games.items(): \n",
    "    print (\"{:>20}: {}\".format(k,v))"
   ]
  },
  {
   "cell_type": "markdown",
   "metadata": {},
   "source": [
    "- And finally you want to print out only the sports lists:"
   ]
  },
  {
   "cell_type": "code",
   "execution_count": null,
   "metadata": {},
   "outputs": [],
   "source": [
    "for v in olympic_games.values():\n",
    "    print (v)"
   ]
  },
  {
   "cell_type": "markdown",
   "metadata": {},
   "source": [
    "---\n",
    "\n",
    "## Teaching python"
   ]
  },
  {
   "cell_type": "markdown",
   "metadata": {},
   "source": [
    "- You are teaching python to some students and you want to list their names according to the course they are attending. You start by creating a dictionary:"
   ]
  },
  {
   "cell_type": "code",
   "execution_count": null,
   "metadata": {},
   "outputs": [],
   "source": [
    "students = {}"
   ]
  },
  {
   "cell_type": "markdown",
   "metadata": {},
   "source": [
    "- So far you have two students for the basic course and three students for the advanced course. You add their names to the dictionary:"
   ]
  },
  {
   "cell_type": "code",
   "execution_count": null,
   "metadata": {},
   "outputs": [],
   "source": [
    "students[\"basic\"]    = [\"Paul\", \"Laura\"]\n",
    "students[\"advanced\"] = [\"Mohammed\", \"Geetha\", \"Maria\"]\n",
    "print (students)"
   ]
  },
  {
   "cell_type": "markdown",
   "metadata": {},
   "source": [
    "- You have just got four new registrations, three for the basic course, and one for the advanced course. You add the new students' names to the dictionary:"
   ]
  },
  {
   "cell_type": "code",
   "execution_count": null,
   "metadata": {},
   "outputs": [],
   "source": [
    "# using [] and .append() (syntax 1)\n",
    "students[\"basic\"].append(\"Tom\")\n",
    "students"
   ]
  },
  {
   "cell_type": "code",
   "execution_count": null,
   "metadata": {},
   "outputs": [],
   "source": [
    "# using [] and list concatenation (syntax 2)\n",
    "students[\"basic\"] += [\"Juhee\"]\n",
    "print (students)"
   ]
  },
  {
   "cell_type": "code",
   "execution_count": null,
   "metadata": {},
   "outputs": [],
   "source": [
    "# using get and .append() (syntax 3)\n",
    "students.get(\"advanced\").append(\"Matt\")\n",
    "print (students)"
   ]
  },
  {
   "cell_type": "code",
   "execution_count": null,
   "metadata": {},
   "outputs": [],
   "source": [
    "# using get and list concatenation (syntax 4)\n",
    "students[\"basic\"] = students.get(\"basic\") + [\"Marc\"]\n",
    "print (students)"
   ]
  },
  {
   "cell_type": "markdown",
   "metadata": {},
   "source": [
    "- After checking the background of one of your basic class students, you realize that she/he does not need the basic course. So you move her/him from the basic to the advanced course:"
   ]
  },
  {
   "cell_type": "code",
   "execution_count": null,
   "metadata": {},
   "outputs": [],
   "source": [
    "students[\"basic\"].remove(\"Laura\")\n",
    "students[\"advanced\"].append(\"Laura\")\n",
    "print (students)"
   ]
  },
  {
   "cell_type": "markdown",
   "metadata": {},
   "source": [
    "- You print out all items one by one in two different ways:"
   ]
  },
  {
   "cell_type": "code",
   "execution_count": null,
   "metadata": {},
   "outputs": [],
   "source": [
    "for k,v in students.items():\n",
    "    print (\"->\",k,v)"
   ]
  },
  {
   "cell_type": "code",
   "execution_count": null,
   "metadata": {},
   "outputs": [],
   "source": [
    "for k,v in students.items():\n",
    "    print (\"{:>8}: {}\".format(k,v))"
   ]
  },
  {
   "cell_type": "markdown",
   "metadata": {},
   "source": [
    "- And finally you print out only the course names: "
   ]
  },
  {
   "cell_type": "code",
   "execution_count": null,
   "metadata": {},
   "outputs": [],
   "source": [
    "for k in students.keys():\n",
    "    print (k)"
   ]
  }
 ],
 "metadata": {
  "kernelspec": {
   "display_name": "Python 3 (ipykernel)",
   "language": "python",
   "name": "python3"
  },
  "language_info": {
   "codemirror_mode": {
    "name": "ipython",
    "version": 3
   },
   "file_extension": ".py",
   "mimetype": "text/x-python",
   "name": "python",
   "nbconvert_exporter": "python",
   "pygments_lexer": "ipython3",
   "version": "3.11.4"
  },
  "widgets": {
   "application/vnd.jupyter.widget-state+json": {
    "state": {},
    "version_major": 2,
    "version_minor": 0
   }
  }
 },
 "nbformat": 4,
 "nbformat_minor": 4
}
