{
 "cells": [
  {
   "cell_type": "markdown",
   "metadata": {},
   "source": [
    "# 24. Inventario en la librería española  \n",
    "\n",
    "## Diccionario\n",
    "\n",
    "[Learn Python with Jupyter](https://learnpythonwithjupyter.com/) (Aprende Python con Jupyter): [Serena Bonaretti](https://sbonaretti.github.io/)   \n",
    "Tradución al español mexicano (es-MX): [Rodrigo Ernesto Álvarez Aguilera](https://incognia.github.io/)   \n",
    "Licencia de contenido: [CC BY-NC-SA](https://creativecommons.org/licenses/by-nc-sa/2.0/). Licencia de código: [GNU-GPL v3](https://www.gnu.org/licenses/gpl-3.0.en.html)  \n",
    "\n",
    "---\n",
    "\n"
   ]
  },
  {
   "cell_type": "markdown",
   "metadata": {},
   "source": [
    "- Eres el dueño de una librería española y estos son algunos clásicos que vendes:"
   ]
  },
  {
   "cell_type": "code",
   "execution_count": null,
   "metadata": {},
   "outputs": [],
   "source": [
    "clasicos = {\"Clarín\":\"La Regenta\", \n",
    "            \"Pardo-Bazán\":\"Los Pazos de Ulloa\", \n",
    "            \"Laforet\":\"Nadaaaaa\"}\n",
    "print (clasicos)"
   ]
  },
  {
   "cell_type": "markdown",
   "metadata": {},
   "source": [
    "- Estás realizando un inventario y necesitas imprimir los autores y los títulos: "
   ]
  },
  {
   "cell_type": "code",
   "execution_count": null,
   "metadata": {},
   "outputs": [],
   "source": [
    "# como dict_items\n",
    "print (clasicos.items())\n",
    "# como una lista de tuplas\n",
    "print (list(clasicos.items()))"
   ]
  },
  {
   "cell_type": "markdown",
   "metadata": {},
   "source": [
    "- Luego necesitas imprimir los autores y los títulos por separado:"
   ]
  },
  {
   "cell_type": "code",
   "execution_count": null,
   "metadata": {},
   "outputs": [],
   "source": [
    "# autores como dict_items\n",
    "print (clasicos.keys())\n",
    "# autores como una lista \n",
    "print (list(clasicos.keys()))\n",
    "\n",
    "# títulos como dict_values\n",
    "print (clasicos.values())\n",
    "# títulos como una lista\n",
    "print (list(clasicos.values()))"
   ]
  },
  {
   "cell_type": "markdown",
   "metadata": {},
   "source": [
    "- Notas que el título del último libro es incorrecto, así que lo corriges:"
   ]
  },
  {
   "cell_type": "code",
   "execution_count": null,
   "metadata": {},
   "outputs": [],
   "source": [
    "print (\"Título incorrecto: \" + clasicos[\"Laforet\"])\n",
    "clasicos[\"Laforet\"] = \"Nada\"\n",
    "print (\"Título corregido: \" + clasicos[\"Laforet\"])"
   ]
  },
  {
   "cell_type": "markdown",
   "metadata": {},
   "source": [
    "- Luego agregas dos nuevos libros que acaban de llegar: *Fuenteovejuna* de Lope de Vega y *Fortunata y Jacinta* de Galdós:"
   ]
  },
  {
   "cell_type": "code",
   "execution_count": null,
   "metadata": {},
   "outputs": [],
   "source": [
    "# agregando el primer libro (sintaxis 1)\n",
    "clasicos[\"Lope de Vega\"] = \"Fuenteovejuna\"\n",
    "print (clasicos)\n",
    "\n",
    "# agregando el segundo libro (sintaxis 2)\n",
    "clasicos.update({\"Galdós\":\"Fortunata y Jacinta\"})\n",
    "print (clasicos)"
   ]
  },
  {
   "cell_type": "markdown",
   "metadata": {},
   "source": [
    "- Finalmente, eliminas los libros de Clarín y Laforet porque acabas de venderlos:"
   ]
  },
  {
   "cell_type": "code",
   "execution_count": null,
   "metadata": {},
   "outputs": [],
   "source": [
    "# eliminando el primer libro (sintaxis 1)\n",
    "del clasicos[\"Clarín\"]\n",
    "print (clasicos)\n",
    "\n",
    "# eliminando el segundo libro (sintaxis 2)\n",
    "clasicos.pop(\"Laforet\")\n",
    "print (clasicos)"
   ]
  },
  {
   "cell_type": "markdown",
   "metadata": {},
   "source": [
    "---\n",
    "## Lista de diccionarios (sección *a fondo*)"
   ]
  },
  {
   "cell_type": "markdown",
   "metadata": {},
   "source": [
    "- Dada la siguiente lista de diccionarios:"
   ]
  },
  {
   "cell_type": "code",
   "execution_count": null,
   "metadata": {
    "tags": []
   },
   "outputs": [],
   "source": [
    "paises = [{\"nombre\": \"China\", \"capital\": \"Beijing\"},\n",
    "          {\"nombre\": \"Francia\", \"capital\": \"París\"},]\n",
    "print (paises)"
   ]
  },
  {
   "cell_type": "markdown",
   "metadata": {},
   "source": [
    "- Agrega un elemento a la lista:"
   ]
  },
  {
   "cell_type": "code",
   "execution_count": null,
   "metadata": {
    "tags": []
   },
   "outputs": [],
   "source": [
    "paises.append({\"nombre\": \"Brasil\", \"capital\": \"Brasilia\"})\n",
    "print (paises)"
   ]
  },
  {
   "cell_type": "markdown",
   "metadata": {},
   "source": [
    "- Segmenta el segundo elemento:"
   ]
  },
  {
   "cell_type": "code",
   "execution_count": null,
   "metadata": {
    "tags": []
   },
   "outputs": [],
   "source": [
    "print (paises [1])"
   ]
  },
  {
   "cell_type": "markdown",
   "metadata": {},
   "source": [
    "- Imprime los elementos de la lista usando un bucle for a través de los elementos y un bucle for a través de los índices:"
   ]
  },
  {
   "cell_type": "code",
   "execution_count": null,
   "metadata": {
    "tags": []
   },
   "outputs": [],
   "source": [
    "# bucle for a través de los elementos\n",
    "print (\"-> bucle for a través de los elementos\")\n",
    "for pais in paises:\n",
    "    print (pais)\n",
    "\n",
    "# bucle for a través de los índices\n",
    "print (\"-> bucle for a través de los índices\")\n",
    "for i in range (len(paises)):\n",
    "    print (paises[i])"
   ]
  },
  {
   "cell_type": "markdown",
   "metadata": {},
   "source": [
    "- Imprime los nombres de los países usando un bucle for a través de los elementos y un bucle for a través de los índices:"
   ]
  },
  {
   "cell_type": "code",
   "execution_count": null,
   "metadata": {
    "tags": []
   },
   "outputs": [],
   "source": [
    "# bucle for a través de los elementos\n",
    "print (\"-> bucle for a través de los elementos\")     \n",
    "for pais in paises:\n",
    "    print (pais[\"nombre\"])\n",
    "    \n",
    "# bucle for a través de los índices\n",
    "print (\"-> bucle for a través de los índices\")\n",
    "for i in range (len(paises)):\n",
    "    print (paises[i][\"nombre\"])"
   ]
  }
 ],
 "metadata": {
  "kernelspec": {
   "display_name": "Python 3 (ipykernel)",
   "language": "python",
   "name": "python3"
  },
  "language_info": {
   "codemirror_mode": {
    "name": "ipython",
    "version": 3
   },
   "file_extension": ".py",
   "mimetype": "text/x-python",
   "name": "python",
   "nbconvert_exporter": "python",
   "pygments_lexer": "ipython3",
   "version": "3.11.4"
  },
  "widgets": {
   "application/vnd.jupyter.widget-state+json": {
    "state": {},
    "version_major": 2,
    "version_minor": 0
   }
  }
 },
 "nbformat": 4,
 "nbformat_minor": 4
}
