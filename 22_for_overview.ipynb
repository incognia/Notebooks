{
 "cells": [
  {
   "cell_type": "markdown",
   "metadata": {},
   "source": [
    "# 22. Detalles adicionales sobre el bucle for\n",
    "\n",
    "## Varias maneras para repetir comandos en listas y más\n",
    "\n",
    "[Learn Python with Jupyter](https://learnpythonwithjupyter.com/) (Aprende Python con Jupyter): [Serena Bonaretti](https://sbonaretti.github.io/)   \n",
    "Tradución al español mexicano (es-MX): [Rodrigo Ernesto Álvarez Aguilera](https://incognia.github.io/)   \n",
    "Licencia de contenido: [CC BY-NC-SA](https://creativecommons.org/licenses/by-nc-sa/2.0/). Licencia de código: [GNU-GPL v3](https://www.gnu.org/licenses/gpl-3.0.en.html)  \n",
    "\n",
    "---"
   ]
  },
  {
   "cell_type": "markdown",
   "metadata": {},
   "source": [
    "## 1. Repetir comandos\n",
    "\n",
    "- Imprimir 3 números aleatorios entre 1 y 10:"
   ]
  },
  {
   "cell_type": "code",
   "execution_count": 1,
   "metadata": {
    "tags": []
   },
   "outputs": [
    {
     "name": "stdout",
     "output_type": "stream",
     "text": [
      "2\n",
      "7\n",
      "5\n"
     ]
    }
   ],
   "source": [
    "import random\n",
    "\n",
    "for _ in range(3):\n",
    "    numero = random.randint(1, 10)\n",
    "    print(numero)"
   ]
  },
  {
   "cell_type": "markdown",
   "metadata": {},
   "source": [
    "---\n",
    "## 2. Bucles for con listas"
   ]
  },
  {
   "cell_type": "markdown",
   "metadata": {
    "tags": []
   },
   "source": [
    "### 2.1. For loop through *indices*\n",
    "\n",
    "- Capitalize each string using a for loop through *indices*:"
   ]
  },
  {
   "cell_type": "code",
   "execution_count": null,
   "metadata": {},
   "outputs": [],
   "source": [
    "last_names = [\"garcia\", \"smith\", \"zhang\"]\n",
    "\n",
    "for i in range (len(last_names)):\n",
    "    print (\"The element in position \" + str(i) + \" is: \" + last_names[i])\n",
    "    last_names[i] = last_names[i].title()\n",
    "\n",
    "print (last_names)"
   ]
  },
  {
   "cell_type": "markdown",
   "metadata": {
    "tags": []
   },
   "source": [
    "### 2.2 For loop through *elements* \n",
    "\n",
    "- Capitalize each string using a for loop through  *elements*:"
   ]
  },
  {
   "cell_type": "code",
   "execution_count": null,
   "metadata": {},
   "outputs": [],
   "source": [
    "last_names = [\"garcia\", \"smith\", \"zhang\"]\n",
    "last_names_upper = [] \n",
    " \n",
    "for last_name in last_names:\n",
    "    print (\"The current element is: \" + last_name)\n",
    "    last_names_upper.append(last_name.title())\n",
    "\n",
    "print (last_names_upper)"
   ]
  },
  {
   "cell_type": "markdown",
   "metadata": {},
   "source": [
    "### 2.3 For loop through *indeces* and *elements* \n",
    "\n",
    "- Capitalize each string using a for loop through and *indeces and elements*:"
   ]
  },
  {
   "cell_type": "code",
   "execution_count": null,
   "metadata": {
    "tags": []
   },
   "outputs": [],
   "source": [
    "last_names = [\"garcia\", \"smith\", \"zhang\"]\n",
    "\n",
    "for i,last_name in enumerate (last_names):\n",
    "    print (\"The element in position \" + str(i) + \" is: \" + last_name)\n",
    "    last_names[i] = last_name.title()\n",
    "    \n",
    "print (last_names)                            "
   ]
  },
  {
   "cell_type": "markdown",
   "metadata": {},
   "source": [
    "### 2.4 List comprehension \n",
    "\n",
    "- Capitalize each string using *list comprehension* containing a for loop through *indices*:"
   ]
  },
  {
   "cell_type": "code",
   "execution_count": null,
   "metadata": {},
   "outputs": [],
   "source": [
    "last_names = [\"garcia\", \"smith\", \"zhang\"]\n",
    "last_names = [last_names[i].title() for i in range(len(last_names))] \n",
    "print (last_names)"
   ]
  },
  {
   "cell_type": "markdown",
   "metadata": {},
   "source": [
    "- Capitalize each string using *list comprehension* containing a for loop through *elements*:"
   ]
  },
  {
   "cell_type": "code",
   "execution_count": null,
   "metadata": {},
   "outputs": [],
   "source": [
    "last_names = [\"garcia\", \"smith\", \"zhang\"]\n",
    "last_names = [last_name.title() for last_name in last_names]\n",
    "print (last_names)"
   ]
  },
  {
   "cell_type": "markdown",
   "metadata": {
    "tags": []
   },
   "source": [
    "- Keep and capitalize only the elements shorter than 6 characters:"
   ]
  },
  {
   "cell_type": "code",
   "execution_count": null,
   "metadata": {},
   "outputs": [],
   "source": [
    "last_names = [\"garcia\", \"smith\", \"zhang\"]\n",
    "last_names = [last_name.title() for last_name in last_names if len(last_name) < 6]\n",
    "print (last_names)"
   ]
  },
  {
   "cell_type": "markdown",
   "metadata": {},
   "source": [
    "- Delete elements that are composed of 5 characters:"
   ]
  },
  {
   "cell_type": "code",
   "execution_count": null,
   "metadata": {},
   "outputs": [],
   "source": [
    "last_names = [\"garcia\", \"smith\", \"zhang\"]\n",
    "last_names = [last_name for last_name in last_names if len(last_name) != 5] \n",
    "print (last_names)"
   ]
  },
  {
   "cell_type": "markdown",
   "metadata": {},
   "source": [
    "---\n",
    "## 3. Nested for loops \n",
    "\n",
    "- Given the following list of vowels: "
   ]
  },
  {
   "cell_type": "code",
   "execution_count": null,
   "metadata": {},
   "outputs": [],
   "source": [
    "vowels = [\"A\", \"E\", \"I\", \"O\", \"U\"]"
   ]
  },
  {
   "cell_type": "markdown",
   "metadata": {},
   "source": [
    "- For each vowel, print all the vowels on the right:"
   ]
  },
  {
   "cell_type": "code",
   "execution_count": null,
   "metadata": {},
   "outputs": [],
   "source": [
    "for i in range (len(vowels)): \n",
    "    print (\"-- \" + vowels[i])\n",
    "    for j in range(i+1, len(vowels)):\n",
    "        print (vowels[j])"
   ]
  }
 ],
 "metadata": {
  "kernelspec": {
   "display_name": "Python 3 (ipykernel)",
   "language": "python",
   "name": "python3"
  },
  "language_info": {
   "codemirror_mode": {
    "name": "ipython",
    "version": 3
   },
   "file_extension": ".py",
   "mimetype": "text/x-python",
   "name": "python",
   "nbconvert_exporter": "python",
   "pygments_lexer": "ipython3",
   "version": "3.10.12"
  },
  "widgets": {
   "application/vnd.jupyter.widget-state+json": {
    "state": {},
    "version_major": 2,
    "version_minor": 0
   }
  }
 },
 "nbformat": 4,
 "nbformat_minor": 4
}
